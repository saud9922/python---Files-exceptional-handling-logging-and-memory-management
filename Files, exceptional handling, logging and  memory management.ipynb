{
 "cells": [
  {
   "cell_type": "code",
   "execution_count": null,
   "id": "d29d59a8-d123-46e9-8a5b-794b19f93db5",
   "metadata": {},
   "outputs": [],
   "source": [
    "\"\"\"\n",
    "1. Difference between interpreted and compiled languages:\n",
    "-> Interpreted languages execute code line-by-line during runtime.\n",
    "Compiled languages convert code into machine language before execution.\n",
    "Interpreted examples: Python, JavaScript; compiled examples: C, C++.\n",
    "Compiled code runs faster, but interpreted code is more flexible.\n",
    "Interpreters are platform-independent but slower.\n",
    "\n",
    "2. What is exception handling in Python:\n",
    "-> It allows you to handle errors using try-except blocks.\n",
    "Prevents the program from crashing due to runtime errors.\n",
    "Can include optional else and finally clauses.\n",
    "Improves code reliability and debugging.\n",
    "Useful for managing unexpected conditions.\n",
    "\n",
    "3. Purpose of the finally block in exception handling:\n",
    "-> It executes regardless of whether an exception occurs.\n",
    "Typically used for cleanup tasks like closing files.\n",
    "Ensures consistent behavior after try-except execution.\n",
    "Runs even if a return statement is encountered.\n",
    "Essential for resource management.\n",
    "\n",
    "4. What is logging in Python:\n",
    "-> Logging is used to track and record program events.\n",
    "Helps in debugging, auditing, and diagnostics.\n",
    "Can log to console, files, or remote servers.\n",
    "Supports multiple severity levels (INFO, ERROR, etc.).\n",
    "Controlled using the logging module.\n",
    "\n",
    "5. Significance of the __del__ method in Python:\n",
    "-> __del__ is a destructor method called when an object is deleted.\n",
    "Used to clean up resources such as files or sockets.\n",
    "Called automatically by Python’s garbage collector.\n",
    "Should be used sparingly to avoid issues.\n",
    "Not guaranteed to run immediately.\n",
    "\n",
    "6. Difference between import and from ... import:\n",
    "-> import loads the entire module into the namespace.\n",
    "from ... import loads specific functions or classes.\n",
    "Improves clarity and reduces namespace pollution.\n",
    "Can enhance readability and modularity.\n",
    "Allows direct access to imported names.\n",
    "\n",
    "7. How to handle multiple exceptions in Python:\n",
    "-> Use separate except blocks for different exceptions.\n",
    "Or group multiple exceptions in a tuple.\n",
    "Example: except (ValueError, TypeError):.\n",
    "Allows customized handling for each error type.\n",
    "Improves robustness and maintainability.\n",
    "\n",
    "8. Purpose of the with statement in file handling:\n",
    "-> Ensures that resources like files are automatically closed.\n",
    "Uses context managers for safer file operations.\n",
    "Eliminates need for manual file closing.\n",
    "Enhances readability and reduces errors.\n",
    "Commonly used with file I/O.\n",
    "\n",
    "9. Difference between multithreading and multiprocessing:\n",
    "-> Multithreading runs multiple threads within one process.\n",
    "Multiprocessing runs multiple processes in parallel.\n",
    "Threads share memory; processes don’t.\n",
    "Multiprocessing avoids the Global Interpreter Lock (GIL).\n",
    "Use threads for I/O-bound and processes for CPU-bound tasks.\n",
    "\n",
    "10. Advantages of using logging in a program:\n",
    "-> Helps monitor application behavior and performance.\n",
    "Records issues for future analysis and debugging.\n",
    "Can separate critical logs from routine ones.\n",
    "Supports configurable output and formats.\n",
    "Essential for production-grade systems.\n",
    "\n",
    "11. What is memory management in Python:\n",
    "-> Python handles memory using a private heap.\n",
    "Includes reference counting and garbage collection.\n",
    "Manages memory automatically for developers.\n",
    "Allows dynamic memory allocation and reuse.\n",
    "Helps prevent memory leaks and fragmentation.\n",
    "\n",
    "12. Basic steps in exception handling in Python:\n",
    "-> Wrap risky code in a try block.\n",
    "Use except to catch specific exceptions.\n",
    "Optionally add else to run if no errors occur.\n",
    "Use finally for cleanup actions.\n",
    "Keeps your code stable and error-tolerant.\n",
    "\n",
    "13. Why memory management is important in Python:\n",
    "-> Ensures efficient use of system resources.\n",
    "Prevents memory leaks and performance issues.\n",
    "Improves program stability and speed.\n",
    "Vital for large or long-running applications.\n",
    "Supports scalability and maintainability.\n",
    "\n",
    "14. Role of try and except in exception handling:\n",
    "-> try defines a block of code to monitor for errors.\n",
    "except handles the error if it occurs.\n",
    "Keeps the program from crashing unexpectedly.\n",
    "Allows targeted exception responses.\n",
    "Improves resilience and debugging.\n",
    "\n",
    "15. How Python's garbage collection works:\n",
    "-> Uses reference counting for tracking objects.\n",
    "Also has a cyclic garbage collector for loops.\n",
    "Frees up memory from unused objects automatically.\n",
    "Reduces the need for manual memory management.\n",
    "Ensures efficient resource utilization.\n",
    "\n",
    "16. Purpose of the else block in exception handling:\n",
    "-> Executes code only if no exception occurred.\n",
    "Follows the try block but before finally.\n",
    "Improves code clarity and separation of logic.\n",
    "Keeps normal operations separate from error handling.\n",
    "Optional but useful in many cases.\n",
    "\n",
    "17. Common logging levels in Python:\n",
    "-> DEBUG: Detailed info, typically for debugging.\n",
    "INFO: General operational messages.\n",
    "WARNING: Something unexpected but not crashing.\n",
    "ERROR: More serious issues.\n",
    "CRITICAL: Very severe errors or crashes.\n",
    "\n",
    "18. Difference between os.fork() and multiprocessing:\n",
    "-> os.fork() creates a child process (Unix-only).\n",
    "multiprocessing works on all platforms.\n",
    "Fork is low-level; multiprocessing is high-level.\n",
    "Multiprocessing offers better abstraction and tools.\n",
    "Use multiprocessing for cross-platform support.\n",
    "\n",
    "19. Importance of closing a file in Python:\n",
    "-> Releases system resources tied to the file.\n",
    "Ensures data is written properly to disk.\n",
    "Prevents file corruption or locks.\n",
    "Can be handled automatically using with.\n",
    "Good practice for safe file handling.\n",
    "\n",
    "20. Difference between file.read() and file.readline():\n",
    "-> file.read() reads the entire file as a string.\n",
    "file.readline() reads a single line at a time.\n",
    "Useful when working with large files.\n",
    "read() can consume lots of memory.\n",
    "readline() is more memory-efficient.\n",
    "\n",
    "21. What is the logging module used for:\n",
    "-> Records messages and events during execution.\n",
    "Supports levels like DEBUG, INFO, WARNING, etc.\n",
    "Allows output to files, streams, or remote servers.\n",
    "Helps in troubleshooting and monitoring.\n",
    "Highly configurable and flexible.\n",
    "\n",
    "22. What is the os module used for in file handling:\n",
    "-> Provides functions to interact with the OS.\n",
    "Includes file creation, deletion, renaming, etc.\n",
    "Enables working with directories and paths.\n",
    "Useful for cross-platform file operations.\n",
    "Includes utilities like os.path and os.remove.\n",
    "\n",
    "23. Challenges in Python memory management:\n",
    "-> Reference cycles can delay garbage collection.\n",
    "Large objects may cause high memory usage.\n",
    "Memory fragmentation can affect performance.\n",
    "Manual management is limited compared to C/C++.\n",
    "Debugging memory issues can be complex.\n",
    "\n",
    "24. How to raise an exception manually in Python:\n",
    "-> Use the raise keyword followed by an exception.\n",
    "Example: raise ValueError(\"Invalid input\").\n",
    "Can be used for input validation or logic errors.\n",
    "Supports custom exception classes.\n",
    "Interrupts normal program flow intentionally.\n",
    "\n",
    "25. Why multithreading is important in some applications:\n",
    "-> Enhances performance in I/O-bound tasks.\n",
    "Allows concurrent execution of tasks.\n",
    "Improves responsiveness in user interfaces.\n",
    "Shares memory space between threads.\n",
    "Useful for network requests or file operations.\n",
    "\n",
    "\n",
    "\"\"\""
   ]
  },
  {
   "cell_type": "code",
   "execution_count": 1,
   "id": "5dcbbc9c-e7fa-41d8-a367-9837325b2689",
   "metadata": {},
   "outputs": [],
   "source": [
    "# 1. How can you open a file for writing in Python and write a string to it?\n",
    "with open(\"example.txt\", \"w\") as f:\n",
    "    f.write(\"Hello, world!\")\n"
   ]
  },
  {
   "cell_type": "code",
   "execution_count": 2,
   "id": "2e41dd4a-8781-44bf-98a2-88ebaaa2b238",
   "metadata": {},
   "outputs": [
    {
     "name": "stdout",
     "output_type": "stream",
     "text": [
      "Hello, world!\n"
     ]
    }
   ],
   "source": [
    "# 2. Write a Python program to read the contents of a file and print each line\n",
    "with open(\"example.txt\", \"r\") as f:\n",
    "    for line in f:\n",
    "        print(line.strip())\n"
   ]
  },
  {
   "cell_type": "code",
   "execution_count": 3,
   "id": "fd76a9c7-c047-4e14-8a4e-771ec3451ce9",
   "metadata": {},
   "outputs": [
    {
     "name": "stdout",
     "output_type": "stream",
     "text": [
      "The file does not exist.\n"
     ]
    }
   ],
   "source": [
    "# 3. How would you handle a case where the file doesn't exist while trying to open it for reading?\n",
    "try:\n",
    "    with open(\"nonexistent.txt\", \"r\") as f:\n",
    "        data = f.read()\n",
    "except FileNotFoundError:\n",
    "    print(\"The file does not exist.\")\n"
   ]
  },
  {
   "cell_type": "code",
   "execution_count": 5,
   "id": "7e11ab3a-0580-44d8-a097-3bfaab1dd9da",
   "metadata": {},
   "outputs": [],
   "source": [
    "# 4. Write a Python script that reads from one file and writes its content to another file\n",
    " with open(\"source.txt\", \"r\") as src, open(\"destination.txt\", \"w\") as dest:\n",
    "    dest.write(src.read())\n"
   ]
  },
  {
   "cell_type": "code",
   "execution_count": null,
   "id": "b057457e-8953-4e29-97c7-9d0f072fc90b",
   "metadata": {},
   "outputs": [],
   "source": [
    "# 5. How would you catch and handle a division by zero error in Python?\n",
    "try:\n",
    "    result = 10 / 0\n",
    "except ZeroDivisionError:\n",
    "    print(\"Cannot divide by zero.\")\n"
   ]
  },
  {
   "cell_type": "code",
   "execution_count": null,
   "id": "f630c92b-3922-44d0-8662-78b99a28c42f",
   "metadata": {},
   "outputs": [],
   "source": [
    "# 6. Write a Python program that logs an error message to a log file when a division by zero exception occurs\n",
    "import logging\n",
    "\n",
    "logging.basicConfig(filename=\"errors.log\", level=logging.ERROR)\n",
    "\n",
    "try:\n",
    "    result = 10 / 0\n",
    "except ZeroDivisionError as e:\n",
    "    logging.error(\"Division by zero error: %s\", e)\n"
   ]
  },
  {
   "cell_type": "code",
   "execution_count": null,
   "id": "c40dfbe9-c053-4ef4-84db-f833d542567e",
   "metadata": {},
   "outputs": [],
   "source": [
    "# 7. How do you log information at different levels (INFO, ERROR, WARNING) in Python using the logging module?\n",
    "import logging\n",
    "\n",
    "logging.basicConfig(level=logging.DEBUG)\n",
    "\n",
    "logging.info(\"This is an info message.\")\n",
    "logging.warning(\"This is a warning.\")\n",
    "logging.error(\"This is an error.\")\n"
   ]
  },
  {
   "cell_type": "code",
   "execution_count": null,
   "id": "29c72e90-efc4-4530-8dc7-3cabfe6117ff",
   "metadata": {},
   "outputs": [],
   "source": [
    "# 8. Write a program to handle a file opening error using exception handling\n",
    "try:\n",
    "    with open(\"file.txt\", \"r\") as f:\n",
    "        print(f.read())\n",
    "except IOError as e:\n",
    "    print(f\"An error occurred: {e}\")\n"
   ]
  },
  {
   "cell_type": "code",
   "execution_count": null,
   "id": "5f06a8d0-b422-487c-9755-7d26e22c391f",
   "metadata": {},
   "outputs": [],
   "source": [
    "# 9. How can you read a file line by line and store its content in a list in Python?\n",
    "with open(\"example.txt\", \"r\") as f:\n",
    "    lines = f.readlines()\n"
   ]
  },
  {
   "cell_type": "code",
   "execution_count": null,
   "id": "61caf854-55f4-441d-92f6-24472144f4e6",
   "metadata": {},
   "outputs": [],
   "source": [
    "# 10. How can you append data to an existing file in Python?\n",
    "with open(\"example.txt\", \"a\") as f:\n",
    "    f.write(\"Appending this line.\\n\")\n"
   ]
  },
  {
   "cell_type": "code",
   "execution_count": null,
   "id": "1e30e689-d02b-40cb-8a92-226df3a7d99e",
   "metadata": {},
   "outputs": [],
   "source": [
    "# 11. Write a Python program that uses a try-except block to handle an error when attempting to access a dictionary key that doesn't exist\n",
    "data = {\"a\": 1}\n",
    "try:\n",
    "    print(data[\"b\"])\n",
    "except KeyError:\n",
    "    print(\"Key does not exist.\")\n"
   ]
  },
  {
   "cell_type": "code",
   "execution_count": null,
   "id": "5c3489a5-c3e8-4a6a-953b-291a1964291c",
   "metadata": {},
   "outputs": [],
   "source": [
    "# 12. Write a program that demonstrates using multiple except blocks to handle different types of exceptions\n",
    " try:\n",
    "    a = 10 / 0\n",
    "except ZeroDivisionError:\n",
    "    print(\"Cannot divide by zero.\")\n",
    "except TypeError:\n",
    "    print(\"Type error occurred.\")\n"
   ]
  },
  {
   "cell_type": "code",
   "execution_count": null,
   "id": "cbb81daf-556a-461a-aa77-e0fc5c953ad5",
   "metadata": {},
   "outputs": [],
   "source": [
    "# 13. How would you check if a file exists before attempting to read it in Python?\n",
    "import os\n",
    "\n",
    "if os.path.exists(\"example.txt\"):\n",
    "    with open(\"example.txt\", \"r\") as f:\n",
    "        print(f.read())\n",
    "else:\n",
    "    print(\"File does not exist.\")\n"
   ]
  },
  {
   "cell_type": "code",
   "execution_count": null,
   "id": "33a62500-5571-4d86-b211-3a227959cc7d",
   "metadata": {},
   "outputs": [],
   "source": [
    "# 14. Write a program that uses the logging module to log both informational and error messages\n",
    "import logging\n",
    "\n",
    "logging.basicConfig(filename='app.log', level=logging.INFO)\n",
    "\n",
    "logging.info(\"Application started.\")\n",
    "try:\n",
    "    1 / 0\n",
    "except ZeroDivisionError as e:\n",
    "    logging.error(\"An error occurred: %s\", e)\n"
   ]
  },
  {
   "cell_type": "code",
   "execution_count": null,
   "id": "ec361668-60d3-42fa-861b-153a6f0533f8",
   "metadata": {},
   "outputs": [],
   "source": [
    "# 15. Write a Python program that prints the content of a file and handles the case when the file is empty\n",
    "with open(\"example.txt\", \"r\") as f:\n",
    "    content = f.read()\n",
    "    if content:\n",
    "        print(content)\n",
    "    else:\n",
    "        print(\"File is empty.\")\n"
   ]
  },
  {
   "cell_type": "code",
   "execution_count": null,
   "id": "23ac8027-d110-4e40-a488-f77a4152ddd1",
   "metadata": {},
   "outputs": [],
   "source": [
    "# 16. Demonstrate how to use memory profiling to check the memory usage of a small program\n",
    "# Install memory_profiler with: pip install memory_profiler\n",
    "from memory_profiler import profile\n",
    "\n",
    "@profile\n",
    "def compute():\n",
    "    a = [i ** 2 for i in range(10000)]\n",
    "    return a\n",
    "\n",
    "compute()\n"
   ]
  },
  {
   "cell_type": "code",
   "execution_count": null,
   "id": "ac63e6b5-618d-49de-8eca-5f6554793936",
   "metadata": {},
   "outputs": [],
   "source": [
    "# 17. Write a Python program to create and write a list of numbers to a file, one number per line\n",
    "numbers = [1, 2, 3, 4, 5]\n",
    "with open(\"numbers.txt\", \"w\") as f:\n",
    "    for number in numbers:\n",
    "        f.write(f\"{number}\\n\")\n"
   ]
  },
  {
   "cell_type": "code",
   "execution_count": null,
   "id": "aa7d77ed-eae3-4de2-a88b-dc81e571f48f",
   "metadata": {},
   "outputs": [],
   "source": [
    "# 18. How would you implement a basic logging setup that logs to a file with rotation after 1MB?\n",
    "import logging\n",
    "from logging.handlers import RotatingFileHandler\n",
    "\n",
    "handler = RotatingFileHandler(\"app.log\", maxBytes=1024*1024, backupCount=3)\n",
    "logging.basicConfig(handlers=[handler], level=logging.INFO)\n",
    "logging.info(\"Rotating log example.\")\n"
   ]
  },
  {
   "cell_type": "code",
   "execution_count": null,
   "id": "e5112037-36ae-4ffd-a32f-6ac096c07cce",
   "metadata": {},
   "outputs": [],
   "source": [
    "# 19. Write a program that handles both IndexError and KeyError using a try-except block\n",
    "data = {\"x\": 10}\n",
    "items = [1, 2, 3]\n",
    "\n",
    "try:\n",
    "    print(items[5])\n",
    "    print(data[\"y\"])\n",
    "except IndexError:\n",
    "    print(\"Index out of range.\")\n",
    "except KeyError:\n",
    "    print(\"Key not found.\")\n"
   ]
  },
  {
   "cell_type": "code",
   "execution_count": null,
   "id": "83d6cace-c07f-4ae1-8f4c-070b824ccac9",
   "metadata": {},
   "outputs": [],
   "source": [
    "# 20. How would you open a file and read its contents using a context manager in Python?\n",
    "with open(\"example.txt\", \"r\") as f:\n",
    "    content = f.read()\n",
    "    print(content)\n"
   ]
  },
  {
   "cell_type": "code",
   "execution_count": null,
   "id": "24d75fe4-e8a4-4a44-af7b-5484a18fd8bb",
   "metadata": {},
   "outputs": [],
   "source": [
    "# 21. Write a Python program that reads a file and prints the number of occurrences of a specific word\n",
    "word_to_find = \"hello\"\n",
    "count = 0\n",
    "\n",
    "with open(\"example.txt\", \"r\") as f:\n",
    "    for line in f:\n",
    "        count += line.lower().count(word_to_find.lower())\n",
    "\n",
    "print(f\"The word '{word_to_find}' occurred {count} times.\")\n"
   ]
  },
  {
   "cell_type": "code",
   "execution_count": null,
   "id": "7f42e9c7-6313-4da6-bae7-9153fa749c7c",
   "metadata": {},
   "outputs": [],
   "source": [
    "# 22. How can you check if a file is empty before attempting to read its contents?\n",
    "import os\n",
    "\n",
    "if os.path.getsize(\"example.txt\") == 0:\n",
    "    print(\"File is empty.\")\n",
    "else:\n",
    "    with open(\"example.txt\", \"r\") as f:\n",
    "        print(f.read())\n"
   ]
  },
  {
   "cell_type": "code",
   "execution_count": null,
   "id": "977ed974-5802-473a-be50-467992093fa4",
   "metadata": {},
   "outputs": [],
   "source": [
    "# 23. Write a Python program that writes to a log file when an error occurs during file handling\n",
    "import logging\n",
    "\n",
    "logging.basicConfig(filename='file_errors.log', level=logging.ERROR)\n",
    "\n",
    "try:\n",
    "    with open(\"nonexistent.txt\", \"r\") as f:\n",
    "        print(f.read())\n",
    "except Exception as e:\n",
    "    logging.error(\"File handling error: %s\", e)\n"
   ]
  }
 ],
 "metadata": {
  "kernelspec": {
   "display_name": "Python 3 (ipykernel)",
   "language": "python",
   "name": "python3"
  },
  "language_info": {
   "codemirror_mode": {
    "name": "ipython",
    "version": 3
   },
   "file_extension": ".py",
   "mimetype": "text/x-python",
   "name": "python",
   "nbconvert_exporter": "python",
   "pygments_lexer": "ipython3",
   "version": "3.13.1"
  }
 },
 "nbformat": 4,
 "nbformat_minor": 5
}
